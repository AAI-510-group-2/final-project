{
 "cells": [
  {
   "cell_type": "markdown",
   "metadata": {},
   "source": [
    "# Global AI Job Market & Salary - Analyzing salary trends for jobs related to AI\n",
    "#### Victor Hsu, Ajmal Jalal, Aliaksei Matsarski –  Team 2\n",
    "#### AAI-510-03 – Machine learning: Fundamentals and Applications \n",
    "#### Instructor: Dave Friesen, MS\n",
    "#### Shiley-Marcos School of Engineering, University of San Diego\n",
    "#### June 7, 2025"
   ]
  },
  {
   "cell_type": "markdown",
   "metadata": {},
   "source": [
    "## Problem statement and justification for the proposed approach."
   ]
  },
  {
   "cell_type": "markdown",
   "metadata": {},
   "source": [
    "### Problem statement"
   ]
  },
  {
   "cell_type": "markdown",
   "metadata": {},
   "source": [
    "In the last few years, Artificial Intelligence (AI) has managed to find its way across multiple industries, creating a demand for skilled workers who can manage the entire chain of the AI development process. From developing, implementing, and overlooking AI technologies. Recent analysis gives numbers to this growth, where those who have specialized AI skills can expect a wage increase of more than 50% compared to other workers in similar roles (PwC, 2025). As AI demand continues to grow, the need to navigate this changing market becomes more important. A data-driven understanding of salary benchmarks and market trends is critical for companies to attract top talent and for individuals to strategically manage their career paths.\n",
    "This project aims to confront these challenges through a deep analysis of the global AI job market and the salaries around those jobs. By leveraging a salary trends dataset named “Global AI Job Market and Salary Trends 2025” (Sajjad, 2025), we aim to explore and understand the global distribution of AI roles and the variables influencing salary. Then, using that understanding, we will develop a predictive model that can estimate salaries for AI specialists with a high accuracy.\n",
    "Our investigation will begin with exploratory data analysis to uncover patterns/trends. Next we will examine how different factors like location, job title, experience level correspond to changes in salary. This will determine which skills are most in demand and what education/experience have the most impact in the market.\n",
    "After that we will leverage that information to perform predictive modeling. Using random forest and XGBoost, our model will be designed to forecast compensation based on a variety of job-specific attributes. \n",
    "Ultimately, this project is intended to deliver value to companies seeking AI talent, and individuals who would like to know what would be fair compensation. By empowering both sides of the corporate world (companies and individuals), our project aims to create a more effective and transparent job market for our future AI workforce.\n"
   ]
  },
  {
   "cell_type": "markdown",
   "metadata": {},
   "source": [
    "### Approach justification"
   ]
  },
  {
   "cell_type": "markdown",
   "metadata": {},
   "source": [
    "We choose to compare the performance of two powerful ensemble methods known for their suitability in tabular regression tasks: Random Forest and XGBoost. The decision to employ Random Forest Regressor and Extreme Gradient Boosting (XGBoost) was based on their demonstrated effectiveness for regression tasks on structured/tabular data. Both algorithms offer strong predictive capabilities, robustness to data irregularities, and interpretability, which are essential in understanding and modeling salary patterns in the AI job market.\n"
   ]
  },
  {
   "cell_type": "markdown",
   "metadata": {},
   "source": [
    "## Data understanding (EDA)\n",
    "\n",
    "This exploratory data analysis examines the Global AI Job Market dataset containing 15,000 job postings with 19 features including salary, experience, location, and job characteristics. Our EDA follows a systematic approach:\n",
    "\n",
    "**Key Analysis Components:**\n",
    "- **Data Quality Assessment**: Checking for missing values, duplicates, and data types\n",
    "- **Univariate Analysis**: Examining distributions of key variables like salary, experience, and job titles\n",
    "- **Data Profiling**: Understanding the structure and characteristics of categorical variables\n",
    "- **Outlier Detection**: Identifying and analyzing salary outliers using IQR method\n",
    "- **Data Preparation**: Cleaning and preprocessing steps for modeling\n",
    "\n",
    "**Key Findings:**\n",
    "- **Dataset**: 15,000 complete records with no missing values\n",
    "- **Salary Range**: $32,519 - $399,095 USD (median: $99,705, mean: $115,349)\n",
    "- **Experience**: 0-19 years (mean: 6.3 years)\n",
    "- **Employment Types**: Balanced distribution across Full-time (FT), Freelance (FL), Contract (CT), and Part-time (PT)\n",
    "- **Outliers**: 3.2% of salary data identified as statistical outliers\n",
    "- **Global Scope**: Multiple currencies (USD, EUR, GBP) and locations represented\n",
    "\n",
    "This analysis provides the foundation for understanding salary patterns and building predictive models for AI job compensation.\n"
   ]
  },
  {
   "cell_type": "code",
   "execution_count": 1,
   "metadata": {},
   "outputs": [],
   "source": [
    "import pandas as pd\n",
    "import sys\n",
    "import os\n",
    "import matplotlib.ticker as ticker\n",
    "import seaborn as sns\n",
    "import matplotlib.pyplot as plt\n",
    "import numpy as np\n",
    "import re\n",
    "from sklearn.preprocessing import LabelEncoder, OneHotEncoder\n",
    "from sklearn.compose import ColumnTransformer\n",
    "from sklearn.model_selection import train_test_split, GridSearchCV, cross_val_score\n",
    "from sklearn.ensemble import RandomForestRegressor\n",
    "from sklearn.metrics import mean_squared_error, r2_score, mean_absolute_error\n",
    "import xgboost as xgb\n",
    "import warnings\n",
    "warnings.filterwarnings('ignore')"
   ]
  },
  {
   "cell_type": "code",
   "execution_count": 3,
   "metadata": {
    "colab": {
     "base_uri": "https://localhost:8080/"
    },
    "id": "mTQBtsEkIt1F",
    "outputId": "099eb23a-1d57-4e6b-8cfa-0e48962a5430"
   },
   "outputs": [],
   "source": [
    "# A function to draw a box plot for a given column\n",
    "def draw_box_plot(df, col, title):\n",
    "    plt.figure(figsize=(10, 6))\n",
    "    upper_limit = df[col].quantile(0.90)\n",
    "    sns.boxplot(x=df[df[col] <= upper_limit][col])\n",
    "    plt.gca().xaxis.set_major_formatter(ticker.StrMethodFormatter('{x:,.0f}'))\n",
    "\n",
    "    plt.title(title)\n",
    "    plt.show()\n",
    "\n",
    "def print_model_performance(y_train, rf_train_pred, y_test, rf_test_pred, title, model):\n",
    "    # Evaluate the model\n",
    "    rf_train_r2 = r2_score(y_train, rf_train_pred)\n",
    "    rf_test_r2 = r2_score(y_test, rf_test_pred)\n",
    "    rf_train_rmse = np.sqrt(mean_squared_error(y_train, rf_train_pred))\n",
    "    rf_test_rmse = np.sqrt(mean_squared_error(y_test, rf_test_pred))\n",
    "    rf_train_mae = mean_absolute_error(y_train, rf_train_pred)\n",
    "    rf_test_mae = mean_absolute_error(y_test, rf_test_pred)\n",
    "    \n",
    "    # Print the model performance\n",
    "    print(title)\n",
    "    print(f\"Training R²: {rf_train_r2:.4f}\")\n",
    "    print(f\"Testing R²: {rf_test_r2:.4f}\")\n",
    "    print(f\"Training RMSE: ${rf_train_rmse:,.0f}\")\n",
    "    print(f\"Testing RMSE: ${rf_test_rmse:,.0f}\")\n",
    "    print(f\"Training MAE: ${rf_train_mae:,.0f}\")\n",
    "    print(f\"Testing MAE: ${rf_test_mae:,.0f}\")\n",
    "\n",
    "    # Cross-validation\n",
    "    rf_cv_scores = cross_val_score(model, X_train, y_train, cv=5, scoring='r2')\n",
    "    print(f\"Cross-validation R² (mean ± std): {rf_cv_scores.mean():.4f} ± {rf_cv_scores.std():.4f}\")\n",
    "    "
   ]
  },
  {
   "cell_type": "code",
   "execution_count": 4,
   "metadata": {
    "id": "I43m2aiJI_wZ"
   },
   "outputs": [],
   "source": [
    "# get data from drive\n",
    "df = pd.read_csv(r\"./ai_job_dataset.csv\")"
   ]
  },
  {
   "cell_type": "code",
   "execution_count": 7,
   "metadata": {
    "colab": {
     "base_uri": "https://localhost:8080/",
     "height": 382
    },
    "id": "EwSoLqnQJaqB",
    "outputId": "773f0c5e-9a54-418c-b125-a979829c70d9"
   },
   "outputs": [
    {
     "data": {
      "text/html": [
       "<div>\n",
       "<style scoped>\n",
       "    .dataframe tbody tr th:only-of-type {\n",
       "        vertical-align: middle;\n",
       "    }\n",
       "\n",
       "    .dataframe tbody tr th {\n",
       "        vertical-align: top;\n",
       "    }\n",
       "\n",
       "    .dataframe thead th {\n",
       "        text-align: right;\n",
       "    }\n",
       "</style>\n",
       "<table border=\"1\" class=\"dataframe\">\n",
       "  <thead>\n",
       "    <tr style=\"text-align: right;\">\n",
       "      <th></th>\n",
       "      <th>job_id</th>\n",
       "      <th>job_title</th>\n",
       "      <th>salary_usd</th>\n",
       "      <th>salary_currency</th>\n",
       "      <th>experience_level</th>\n",
       "      <th>employment_type</th>\n",
       "      <th>company_location</th>\n",
       "      <th>company_size</th>\n",
       "      <th>employee_residence</th>\n",
       "      <th>remote_ratio</th>\n",
       "      <th>required_skills</th>\n",
       "      <th>education_required</th>\n",
       "      <th>years_experience</th>\n",
       "      <th>industry</th>\n",
       "      <th>posting_date</th>\n",
       "      <th>application_deadline</th>\n",
       "      <th>job_description_length</th>\n",
       "      <th>benefits_score</th>\n",
       "      <th>company_name</th>\n",
       "    </tr>\n",
       "  </thead>\n",
       "  <tbody>\n",
       "    <tr>\n",
       "      <th>0</th>\n",
       "      <td>AI00001</td>\n",
       "      <td>AI Research Scientist</td>\n",
       "      <td>90376</td>\n",
       "      <td>USD</td>\n",
       "      <td>SE</td>\n",
       "      <td>CT</td>\n",
       "      <td>China</td>\n",
       "      <td>M</td>\n",
       "      <td>China</td>\n",
       "      <td>50</td>\n",
       "      <td>Tableau, PyTorch, Kubernetes, Linux, NLP</td>\n",
       "      <td>Bachelor</td>\n",
       "      <td>9</td>\n",
       "      <td>Automotive</td>\n",
       "      <td>2024-10-18</td>\n",
       "      <td>2024-11-07</td>\n",
       "      <td>1076</td>\n",
       "      <td>5.9</td>\n",
       "      <td>Smart Analytics</td>\n",
       "    </tr>\n",
       "    <tr>\n",
       "      <th>1</th>\n",
       "      <td>AI00002</td>\n",
       "      <td>AI Software Engineer</td>\n",
       "      <td>61895</td>\n",
       "      <td>USD</td>\n",
       "      <td>EN</td>\n",
       "      <td>CT</td>\n",
       "      <td>Canada</td>\n",
       "      <td>M</td>\n",
       "      <td>Ireland</td>\n",
       "      <td>100</td>\n",
       "      <td>Deep Learning, AWS, Mathematics, Python, Docker</td>\n",
       "      <td>Master</td>\n",
       "      <td>1</td>\n",
       "      <td>Media</td>\n",
       "      <td>2024-11-20</td>\n",
       "      <td>2025-01-11</td>\n",
       "      <td>1268</td>\n",
       "      <td>5.2</td>\n",
       "      <td>TechCorp Inc</td>\n",
       "    </tr>\n",
       "    <tr>\n",
       "      <th>2</th>\n",
       "      <td>AI00003</td>\n",
       "      <td>AI Specialist</td>\n",
       "      <td>152626</td>\n",
       "      <td>USD</td>\n",
       "      <td>MI</td>\n",
       "      <td>FL</td>\n",
       "      <td>Switzerland</td>\n",
       "      <td>L</td>\n",
       "      <td>South Korea</td>\n",
       "      <td>0</td>\n",
       "      <td>Kubernetes, Deep Learning, Java, Hadoop, NLP</td>\n",
       "      <td>Associate</td>\n",
       "      <td>2</td>\n",
       "      <td>Education</td>\n",
       "      <td>2025-03-18</td>\n",
       "      <td>2025-04-07</td>\n",
       "      <td>1974</td>\n",
       "      <td>9.4</td>\n",
       "      <td>Autonomous Tech</td>\n",
       "    </tr>\n",
       "    <tr>\n",
       "      <th>3</th>\n",
       "      <td>AI00004</td>\n",
       "      <td>NLP Engineer</td>\n",
       "      <td>80215</td>\n",
       "      <td>USD</td>\n",
       "      <td>SE</td>\n",
       "      <td>FL</td>\n",
       "      <td>India</td>\n",
       "      <td>M</td>\n",
       "      <td>India</td>\n",
       "      <td>50</td>\n",
       "      <td>Scala, SQL, Linux, Python</td>\n",
       "      <td>PhD</td>\n",
       "      <td>7</td>\n",
       "      <td>Consulting</td>\n",
       "      <td>2024-12-23</td>\n",
       "      <td>2025-02-24</td>\n",
       "      <td>1345</td>\n",
       "      <td>8.6</td>\n",
       "      <td>Future Systems</td>\n",
       "    </tr>\n",
       "    <tr>\n",
       "      <th>4</th>\n",
       "      <td>AI00005</td>\n",
       "      <td>AI Consultant</td>\n",
       "      <td>54624</td>\n",
       "      <td>EUR</td>\n",
       "      <td>EN</td>\n",
       "      <td>PT</td>\n",
       "      <td>France</td>\n",
       "      <td>S</td>\n",
       "      <td>Singapore</td>\n",
       "      <td>100</td>\n",
       "      <td>MLOps, Java, Tableau, Python</td>\n",
       "      <td>Master</td>\n",
       "      <td>0</td>\n",
       "      <td>Media</td>\n",
       "      <td>2025-04-15</td>\n",
       "      <td>2025-06-23</td>\n",
       "      <td>1989</td>\n",
       "      <td>6.6</td>\n",
       "      <td>Advanced Robotics</td>\n",
       "    </tr>\n",
       "  </tbody>\n",
       "</table>\n",
       "</div>"
      ],
      "text/plain": [
       "    job_id              job_title  salary_usd salary_currency  \\\n",
       "0  AI00001  AI Research Scientist       90376             USD   \n",
       "1  AI00002   AI Software Engineer       61895             USD   \n",
       "2  AI00003          AI Specialist      152626             USD   \n",
       "3  AI00004           NLP Engineer       80215             USD   \n",
       "4  AI00005          AI Consultant       54624             EUR   \n",
       "\n",
       "  experience_level employment_type company_location company_size  \\\n",
       "0               SE              CT            China            M   \n",
       "1               EN              CT           Canada            M   \n",
       "2               MI              FL      Switzerland            L   \n",
       "3               SE              FL            India            M   \n",
       "4               EN              PT           France            S   \n",
       "\n",
       "  employee_residence  remote_ratio  \\\n",
       "0              China            50   \n",
       "1            Ireland           100   \n",
       "2        South Korea             0   \n",
       "3              India            50   \n",
       "4          Singapore           100   \n",
       "\n",
       "                                   required_skills education_required  \\\n",
       "0         Tableau, PyTorch, Kubernetes, Linux, NLP           Bachelor   \n",
       "1  Deep Learning, AWS, Mathematics, Python, Docker             Master   \n",
       "2     Kubernetes, Deep Learning, Java, Hadoop, NLP          Associate   \n",
       "3                        Scala, SQL, Linux, Python                PhD   \n",
       "4                     MLOps, Java, Tableau, Python             Master   \n",
       "\n",
       "   years_experience    industry posting_date application_deadline  \\\n",
       "0                 9  Automotive   2024-10-18           2024-11-07   \n",
       "1                 1       Media   2024-11-20           2025-01-11   \n",
       "2                 2   Education   2025-03-18           2025-04-07   \n",
       "3                 7  Consulting   2024-12-23           2025-02-24   \n",
       "4                 0       Media   2025-04-15           2025-06-23   \n",
       "\n",
       "   job_description_length  benefits_score       company_name  \n",
       "0                    1076             5.9    Smart Analytics  \n",
       "1                    1268             5.2       TechCorp Inc  \n",
       "2                    1974             9.4    Autonomous Tech  \n",
       "3                    1345             8.6     Future Systems  \n",
       "4                    1989             6.6  Advanced Robotics  "
      ]
     },
     "execution_count": 7,
     "metadata": {},
     "output_type": "execute_result"
    }
   ],
   "source": [
    "# Show the first 5 rows of the dataset to get an overview of the data\n",
    "df.head()"
   ]
  },
  {
   "cell_type": "code",
   "execution_count": 9,
   "metadata": {},
   "outputs": [
    {
     "data": {
      "text/plain": [
       "(15000, 19)"
      ]
     },
     "execution_count": 9,
     "metadata": {},
     "output_type": "execute_result"
    }
   ],
   "source": [
    "# Show the shape of the dataset\n",
    "df.shape"
   ]
  },
  {
   "cell_type": "code",
   "execution_count": 10,
   "metadata": {},
   "outputs": [
    {
     "data": {
      "text/plain": [
       "Index(['job_id', 'job_title', 'salary_usd', 'salary_currency',\n",
       "       'experience_level', 'employment_type', 'company_location',\n",
       "       'company_size', 'employee_residence', 'remote_ratio', 'required_skills',\n",
       "       'education_required', 'years_experience', 'industry', 'posting_date',\n",
       "       'application_deadline', 'job_description_length', 'benefits_score',\n",
       "       'company_name'],\n",
       "      dtype='object')"
      ]
     },
     "execution_count": 10,
     "metadata": {},
     "output_type": "execute_result"
    }
   ],
   "source": [
    "# Show the columns of the dataset\n",
    "df.columns"
   ]
  },
  {
   "cell_type": "code",
   "execution_count": 11,
   "metadata": {
    "colab": {
     "base_uri": "https://localhost:8080/"
    },
    "id": "wV8siYE-JkRm",
    "outputId": "8e75ea5d-9975-4bf0-e745-fbe6fbea598f"
   },
   "outputs": [
    {
     "name": "stdout",
     "output_type": "stream",
     "text": [
      "['application_deadline', 'benefits_score', 'company_location', 'company_name', 'company_size', 'education_required', 'employee_residence', 'employment_type', 'experience_level', 'industry', 'job_description_length', 'job_id', 'job_title', 'posting_date', 'remote_ratio', 'required_skills', 'salary_currency', 'salary_usd', 'years_experience']\n"
     ]
    }
   ],
   "source": [
    "df_as_list = df.columns.tolist()\n",
    "sorted_df_as_list = sorted(df_as_list)\n",
    "print(sorted_df_as_list)"
   ]
  },
  {
   "cell_type": "markdown",
   "metadata": {},
   "source": [
    "### Plot and evaluate top 10 variables\n",
    "In this section, we will analyze the top 10 most important variables from our dataset. \n",
    "We'll create visualizations to understand the distribution and patterns in these key features\n",
    "that are most relevant for predicting AI job salaries. This analysis will help us identify\n",
    "potential outliers, understand the data distribution, and gain insights into what factors\n",
    "most significantly impact salary levels in the AI job market.\n"
   ]
  },
  {
   "cell_type": "code",
   "execution_count": 10,
   "metadata": {
    "colab": {
     "base_uri": "https://localhost:8080/",
     "height": 564
    },
    "id": "i0kbuDKKJtmi",
    "outputId": "3ed0957c-a651-4405-a0e1-4b428b508c42"
   },
   "outputs": [
    {
     "data": {
      "image/png": "[encoded data removed]",
      "text/plain": [
       "<Figure size 1000x600 with 1 Axes>"
      ]
     },
     "metadata": {},
     "output_type": "display_data"
    }
   ],
   "source": [
    "# Salary USD\n",
    "draw_box_plot(df, 'salary_usd', 'Salary USD - salary_usd - bottom 90%')"
   ]
  },
  {
   "cell_type": "code",
   "execution_count": 12,
   "metadata": {
    "colab": {
     "base_uri": "https://localhost:8080/",
     "height": 564
    },
    "id": "r5fg_-DlKECn",
    "outputId": "e78fd2bf-895f-4330-fe5c-10a421857f02"
   },
   "outputs": [
    {
     "data": {
      "image/png": "[encoded data removed]",
      "text/plain": [
       "<Figure size 1000x600 with 1 Axes>"
      ]
     },
     "metadata": {},
     "output_type": "display_data"
    }
   ],
   "source": [
    "# Years of Experience\n",
    "draw_box_plot(df, 'years_experience', 'Years Experience - years_experience - bottom 90%')"
   ]
  },
  {
   "cell_type": "code",
   "execution_count": 15,
   "metadata": {},
   "outputs": [
    {
     "data": {
      "image/png": "[encoded data removed]",
      "text/plain": [
       "<Figure size 1000x600 with 1 Axes>"
      ]
     },
     "metadata": {},
     "output_type": "display_data"
    }
   ],
   "source": [
    "# Benefits Score\n",
    "draw_box_plot(df, 'benefits_score', 'Benefits Score - benefits_score - bottom 90%')"
   ]
  },
  {
   "cell_type": "code",
   "execution_count": 16,
   "metadata": {
    "colab": {
     "base_uri": "https://localhost:8080/",
     "height": 545
    },
    "id": "rB6RjYwwKK0C",
    "outputId": "ac713b48-e2ad-4425-c657-7539c981518b"
   },
   "outputs": [
    {
     "data": {
      "image/png": "[encoded data removed]",
      "text/plain": [
       "<Figure size 1000x600 with 1 Axes>"
      ]
     },
     "metadata": {},
     "output_type": "display_data"
    }
   ],
   "source": [
    "# Employment Type\n",
    "plt.figure(figsize=(10, 6))\n",
    "\n",
    "category_counts = df['employment_type'].value_counts() # sorted for easier understanding\n",
    "sns.barplot(y=category_counts.index, x=category_counts.values, order=category_counts.index) # tried countplot but it was kind of messy.\n",
    "\n",
    "plt.title('Employment Type - employment_type')\n",
    "plt.show()\n",
    "\n",
    "# Website says: FT (Full-time), PT (Part-time), CT (Contract), FL (Freelance)"
   ]
  },
  {
   "cell_type": "code",
   "execution_count": 17,
   "metadata": {
    "colab": {
     "base_uri": "https://localhost:8080/",
     "height": 545
    },
    "id": "UdljY6oAKK6p",
    "outputId": "bcaa7c76-cec1-4d52-c6fd-5a564e036e37"
   },
   "outputs": [
    {
     "data": {
      "image/png": "[encoded data removed]",
      "text/plain": [
       "<Figure size 1000x600 with 1 Axes>"
      ]
     },
     "metadata": {},
     "output_type": "display_data"
    }
   ],
   "source": [
    "# Job Title\n",
    "plt.figure(figsize=(10, 6))\n",
    "\n",
    "category_counts = df['job_title'].value_counts() # sorted for easier understanding\n",
    "sns.barplot(y=category_counts.index, x=category_counts.values, order=category_counts.index)\n",
    "\n",
    "plt.title('Job Title - job_title')\n",
    "plt.show()"
   ]
  },
  {
   "cell_type": "markdown",
   "metadata": {},
   "source": [
    "## Data preparation & feature engineering\n",
    "\n",
    "This section transforms the raw AI job market data into a machine learning-ready dataset through systematic cleaning and feature creation. The process ensures data quality while extracting meaningful patterns from both structured and unstructured data.\n",
    "\n",
    "**Core Data Processing:**\n",
    "- **Quality Assessment**: Validated 15,000 complete records with no missing values or duplicates\n",
    "- **Data Type Optimization**: Converted date columns and standardized categorical variables\n",
    "- **Outlier Analysis**: Identified 3.2% salary outliers using IQR method for transparent handling\n",
    "\n",
    "**Advanced Feature Engineering:**\n",
    "- **Skill Extraction**: Parsed job descriptions to create binary features for key technologies (Python, SQL, ML frameworks, cloud platforms)\n",
    "- **Seniority Classification**: Derived career levels from job titles and experience (Senior, Junior, Mid-level, Management)\n",
    "- **Geographic Features**: Extracted country and tech hub classifications from location data\n",
    "- **Salary Segmentation**: Created interpretable salary ranges for analysis\n",
    "\n",
    "**Machine Learning Preparation:**\n",
    "- **Encoding Strategy**: Applied both label encoding and one-hot encoding for categorical variables\n",
    "- **Feature Selection**: Reduced from 19 original to 42 engineered features, removing non-predictive columns\n",
    "- **Correlation Analysis**: Identified top predictors (years_experience: 0.74, experience_level: 0.69)\n",
    "- **Final Validation**: Ensured clean, complete dataset ready for Random Forest and XGBoost modeling\n",
    "\n",
    "**Key Transformations:**\n",
    "- Original dataset: 15,000 × 19 → Final ML dataset: 15,000 × 42 features\n",
    "- 9 skill-based binary features + 27 categorical dummy variables\n",
    "- Preserved full dataset integrity while maximizing predictive power"
   ]
  },
  {
   "cell_type": "markdown",
   "metadata": {},
   "source": [
    "### Data Inspection - Shape, Info, and Missing Values"
   ]
  },
  {
   "cell_type": "code",
   "execution_count": 36,
   "metadata": {},
   "outputs": [
    {
     "name": "stdout",
     "output_type": "stream",
     "text": [
      "Dataset Shape: (15000, 19)\n",
      "\n",
      "==================================================\n",
      "Dataset Info:\n",
      "<class 'pandas.core.frame.DataFrame'>\n",
      "RangeIndex: 15000 entries, 0 to 14999\n",
      "Data columns (total 19 columns):\n",
      " #   Column                  Non-Null Count  Dtype         \n",
      "---  ------                  --------------  -----         \n",
      " 0   job_id                  15000 non-null  object        \n",
      " 1   job_title               15000 non-null  object        \n",
      " 2   salary_usd              15000 non-null  int64         \n",
      " 3   salary_currency         15000 non-null  object        \n",
      " 4   experience_level        15000 non-null  object        \n",
      " 5   employment_type         15000 non-null  object        \n",
      " 6   company_location        15000 non-null  object        \n",
      " 7   company_size            15000 non-null  object        \n",
      " 8   employee_residence      15000 non-null  object        \n",
      " 9   remote_ratio            15000 non-null  int64         \n",
      " 10  required_skills         15000 non-null  object        \n",
      " 11  education_required      15000 non-null  object        \n",
      " 12  years_experience        15000 non-null  int64         \n",
      " 13  industry                15000 non-null  object        \n",
      " 14  posting_date            15000 non-null  datetime64[ns]\n",
      " 15  application_deadline    15000 non-null  datetime64[ns]\n",
      " 16  job_description_length  15000 non-null  int64         \n",
      " 17  benefits_score          15000 non-null  float64       \n",
      " 18  company_name            15000 non-null  object        \n",
      "dtypes: datetime64[ns](2), float64(1), int64(4), object(12)\n",
      "memory usage: 2.2+ MB\n",
      "None\n",
      "\n",
      "==================================================\n",
      "Missing Values:\n",
      "Empty DataFrame\n",
      "Columns: [Missing Count, Missing Percentage]\n",
      "Index: []\n"
     ]
    }
   ],
   "source": [
    "# Data Quality Checks\n",
    "\n",
    "print(\"Dataset Shape:\", df.shape)\n",
    "print(\"\\n\" + \"=\"*50)\n",
    "print(\"Dataset Info:\")\n",
    "print(df.info())\n",
    "print(\"\\n\" + \"=\"*50)\n",
    "# Check for missing values\n",
    "print(\"Missing Values:\")\n",
    "missing_values = df.isnull().sum()\n",
    "missing_percentage = (missing_values / len(df)) * 100\n",
    "missing_df = pd.DataFrame({\n",
    "    'Missing Count': missing_values,\n",
    "    'Missing Percentage': missing_percentage\n",
    "}).sort_values('Missing Count', ascending=False)\n",
    "print(missing_df[missing_df['Missing Count'] > 0])\n"
   ]
  },
  {
   "cell_type": "markdown",
   "metadata": {},
   "source": [
    "### Check for Duplicates"
   ]
  },
  {
   "cell_type": "code",
   "execution_count": 19,
   "metadata": {},
   "outputs": [
    {
     "name": "stdout",
     "output_type": "stream",
     "text": [
      "Duplicate rows: 0\n",
      "Duplicate job_ids: 0\n",
      "\n",
      "==================================================\n",
      "Numerical Variables Summary:\n",
      "          salary_usd  remote_ratio  years_experience  job_description_length  \\\n",
      "count   15000.000000  15000.000000      15000.000000            15000.000000   \n",
      "mean   115348.965133     49.483333          6.253200             1503.314733   \n",
      "std     60260.940438     40.812712          5.545768              576.127083   \n",
      "min     32519.000000      0.000000          0.000000              500.000000   \n",
      "25%     70179.750000      0.000000          2.000000             1003.750000   \n",
      "50%     99705.000000     50.000000          5.000000             1512.000000   \n",
      "75%    146408.500000    100.000000         10.000000             2000.000000   \n",
      "max    399095.000000    100.000000         19.000000             2499.000000   \n",
      "\n",
      "       benefits_score  \n",
      "count    15000.000000  \n",
      "mean         7.504273  \n",
      "std          1.450870  \n",
      "min          5.000000  \n",
      "25%          6.200000  \n",
      "50%          7.500000  \n",
      "75%          8.800000  \n",
      "max         10.000000  \n"
     ]
    }
   ],
   "source": [
    "print(\"Duplicate rows:\", df.duplicated().sum())\n",
    "print(\"Duplicate job_ids:\", df['job_id'].duplicated().sum())\n",
    "\n",
    "# Display basic statistics\n",
    "print(\"\\n\" + \"=\"*50)\n",
    "print(\"Numerical Variables Summary:\")\n",
    "numerical_cols = df.select_dtypes(include=['int64', 'float64']).columns\n",
    "print(df[numerical_cols].describe())\n"
   ]
  },
  {
   "cell_type": "markdown",
   "metadata": {},
   "source": [
    "### Data Type Corrections and Date Parsing"
   ]
  },
  {
   "cell_type": "code",
   "execution_count": 20,
   "metadata": {},
   "outputs": [
    {
     "name": "stdout",
     "output_type": "stream",
     "text": [
      "Unique values in categorical columns:\n",
      "\n",
      "employment_type: 4 unique values\n",
      "employment_type\n",
      "FT    3812\n",
      "FL    3758\n",
      "CT    3721\n",
      "PT    3709\n",
      "Name: count, dtype: int64\n",
      "\n",
      "experience_level: 4 unique values\n",
      "experience_level\n",
      "MI    3781\n",
      "EX    3760\n",
      "SE    3741\n",
      "EN    3718\n",
      "Name: count, dtype: int64\n",
      "\n",
      "education_required: 4 unique values\n",
      "education_required\n",
      "Bachelor     3789\n",
      "Associate    3785\n",
      "Master       3748\n",
      "PhD          3678\n",
      "Name: count, dtype: int64\n",
      "\n",
      "company_size: 3 unique values\n",
      "company_size\n",
      "S    5007\n",
      "L    4998\n",
      "M    4995\n",
      "Name: count, dtype: int64\n",
      "\n",
      "industry: 15 unique values\n",
      "industry\n",
      "Retail                1063\n",
      "Media                 1045\n",
      "Automotive            1020\n",
      "Consulting            1020\n",
      "Technology            1011\n",
      "Real Estate           1007\n",
      "Government             998\n",
      "Healthcare             997\n",
      "Telecommunications     997\n",
      "Transportation         997\n",
      "Name: count, dtype: int64\n",
      "\n",
      "salary_currency: 3 unique values\n",
      "salary_currency\n",
      "USD    11957\n",
      "EUR     2314\n",
      "GBP      729\n",
      "Name: count, dtype: int64\n"
     ]
    }
   ],
   "source": [
    "from datetime import datetime\n",
    "\n",
    "# Convert date columns to datetime\n",
    "date_columns = ['posting_date', 'application_deadline']\n",
    "for col in date_columns:\n",
    "    if col in df.columns:\n",
    "        df[col] = pd.to_datetime(df[col], errors='coerce')\n",
    "\n",
    "# Check unique values in categorical columns to identify any cleaning needs\n",
    "categorical_cols = ['employment_type', 'experience_level', 'education_required', \n",
    "                   'company_size', 'industry', 'salary_currency']\n",
    "\n",
    "print(\"Unique values in categorical columns:\")\n",
    "for col in categorical_cols:\n",
    "    if col in df.columns:\n",
    "        print(f\"\\n{col}: {df[col].nunique()} unique values\")\n",
    "        print(df[col].value_counts().head(10))\n"
   ]
  },
  {
   "cell_type": "markdown",
   "metadata": {},
   "source": [
    "### Outlier Detection and Analysis"
   ]
  },
  {
   "cell_type": "code",
   "execution_count": 21,
   "metadata": {},
   "outputs": [
    {
     "name": "stdout",
     "output_type": "stream",
     "text": [
      "Salary Analysis:\n",
      "Salary range: $32,519 - $399,095\n",
      "Salary median: $99,705\n",
      "Salary mean: $115,349\n",
      "\n",
      "Salary outliers: 483 (3.2%)\n",
      "Outlier bounds: $-44,163 - $260,752\n"
     ]
    },
    {
     "data": {
      "image/png": "[encoded data removed]",
      "text/plain": [
       "<Figure size 1500x500 with 3 Axes>"
      ]
     },
     "metadata": {},
     "output_type": "display_data"
    }
   ],
   "source": [
    "def detect_outliers_iqr(data, column):\n",
    "    \"\"\"Detect outliers using IQR method\"\"\"\n",
    "    Q1 = data[column].quantile(0.25)\n",
    "    Q3 = data[column].quantile(0.75)\n",
    "    IQR = Q3 - Q1\n",
    "    lower_bound = Q1 - 1.5 * IQR\n",
    "    upper_bound = Q3 + 1.5 * IQR\n",
    "    outliers = data[(data[column] < lower_bound) | (data[column] > upper_bound)]\n",
    "    return outliers, lower_bound, upper_bound\n",
    "\n",
    "# Analyze salary outliers\n",
    "print(\"Salary Analysis:\")\n",
    "print(f\"Salary range: ${df['salary_usd'].min():,.0f} - ${df['salary_usd'].max():,.0f}\")\n",
    "print(f\"Salary median: ${df['salary_usd'].median():,.0f}\")\n",
    "print(f\"Salary mean: ${df['salary_usd'].mean():,.0f}\")\n",
    "\n",
    "salary_outliers, sal_lower, sal_upper = detect_outliers_iqr(df, 'salary_usd')\n",
    "print(f\"\\nSalary outliers: {len(salary_outliers)} ({len(salary_outliers)/len(df)*100:.1f}%)\")\n",
    "print(f\"Outlier bounds: ${sal_lower:,.0f} - ${sal_upper:,.0f}\")\n",
    "\n",
    "# Visualize salary distribution before cleaning\n",
    "plt.figure(figsize=(15, 5))\n",
    "\n",
    "plt.subplot(1, 3, 1)\n",
    "plt.hist(df['salary_usd'], bins=50, alpha=0.7)\n",
    "plt.title('Salary Distribution (All Data)')\n",
    "plt.xlabel('Salary USD')\n",
    "plt.ylabel('Frequency')\n",
    "\n",
    "plt.subplot(1, 3, 2)\n",
    "plt.boxplot(df['salary_usd'])\n",
    "plt.title('Salary Boxplot (All Data)')\n",
    "plt.ylabel('Salary USD')\n",
    "\n",
    "plt.subplot(1, 3, 3)\n",
    "# Remove top 5% outliers for better visualization\n",
    "upper_percentile = df['salary_usd'].quantile(0.95)\n",
    "filtered_salaries = df[df['salary_usd'] <= upper_percentile]['salary_usd']\n",
    "plt.hist(filtered_salaries, bins=50, alpha=0.7)\n",
    "plt.title('Salary Distribution (Bottom 95%)')\n",
    "plt.xlabel('Salary USD')\n",
    "plt.ylabel('Frequency')\n",
    "\n",
    "plt.tight_layout()\n",
    "plt.show()\n"
   ]
  },
  {
   "cell_type": "markdown",
   "metadata": {},
   "source": [
    "### Handle Missing Values"
   ]
  },
  {
   "cell_type": "code",
   "execution_count": 24,
   "metadata": {},
   "outputs": [
    {
     "name": "stdout",
     "output_type": "stream",
     "text": [
      "Before cleaning:\n",
      "Dataset shape: (15000, 19)\n",
      "Missing values: 0\n",
      "\n",
      "After removing rows with missing salary:\n",
      "Dataset shape: (15000, 19)\n",
      "Remaining missing values:\n",
      "Series([], dtype: int64)\n",
      "\n",
      "After handling missing values:\n",
      "Dataset shape: (15000, 19)\n",
      "Missing values: 0\n"
     ]
    }
   ],
   "source": [
    "df_clean = df.copy()\n",
    "\n",
    "print(\"Before cleaning:\")\n",
    "print(f\"Dataset shape: {df_clean.shape}\")\n",
    "print(f\"Missing values: {df_clean.isnull().sum().sum()}\")\n",
    "\n",
    "# Remove rows with missing target variable (salary_usd)\n",
    "df_clean = df_clean.dropna(subset=['salary_usd'])\n",
    "\n",
    "# Handle missing values in other important columns\n",
    "# For categorical variables, we can either drop or fill with mode\n",
    "# For numerical variables, we can fill with median/mean\n",
    "\n",
    "# Check which columns still have missing values\n",
    "missing_after_salary = df_clean.isnull().sum()\n",
    "print(f\"\\nAfter removing rows with missing salary:\")\n",
    "print(f\"Dataset shape: {df_clean.shape}\")\n",
    "print(\"Remaining missing values:\")\n",
    "print(missing_after_salary[missing_after_salary > 0])\n",
    "\n",
    "# Handle specific missing values based on data type and importance\n",
    "# Fill missing experience with median\n",
    "if 'years_experience' in df_clean.columns and df_clean['years_experience'].isnull().sum() > 0:\n",
    "    median_exp = df_clean['years_experience'].median()\n",
    "    df_clean['years_experience'].fillna(median_exp, inplace=True)\n",
    "\n",
    "# Fill missing categorical variables with mode or 'Unknown'\n",
    "categorical_cols_to_fill = ['experience_level', 'education_required', 'company_size', 'employment_type']\n",
    "for col in categorical_cols_to_fill:\n",
    "    if col in df_clean.columns and df_clean[col].isnull().sum() > 0:\n",
    "        mode_value = df_clean[col].mode()[0] if not df_clean[col].mode().empty else 'Unknown'\n",
    "        df_clean[col].fillna(mode_value, inplace=True)\n",
    "\n",
    "# For skills, fill with 'Not specified'\n",
    "if 'required_skills' in df_clean.columns:\n",
    "    #df_clean['required_skills'].fillna('Not specified', inplace=True)\n",
    "    df_clean.fillna({'required_skills': 'Not specified'}, inplace=True)\n",
    "\n",
    "print(f\"\\nAfter handling missing values:\")\n",
    "print(f\"Dataset shape: {df_clean.shape}\")\n",
    "print(f\"Missing values: {df_clean.isnull().sum().sum()}\")\n"
   ]
  },
  {
   "cell_type": "markdown",
   "metadata": {},
   "source": [
    "###  Feature Engineering - Extract information from text and create new features"
   ]
  },
  {
   "cell_type": "code",
   "execution_count": 25,
   "metadata": {},
   "outputs": [
    {
     "name": "stdout",
     "output_type": "stream",
     "text": [
      "Skill features extracted:\n",
      "   has_python  has_sql  has_machine_learning  has_deep_learning  \\\n",
      "0           0        0                     0                  0   \n",
      "1           1        0                     0                  1   \n",
      "2           0        0                     0                  1   \n",
      "3           1        1                     0                  0   \n",
      "4           1        0                     0                  0   \n",
      "\n",
      "   has_tensorflow  has_pytorch  has_aws  has_azure  has_gcp  skill_count  \n",
      "0               0            1        0          0        0            5  \n",
      "1               0            0        1          0        0            5  \n",
      "2               0            0        0          0        0            5  \n",
      "3               0            0        0          0        0            4  \n",
      "4               0            0        0          0        0            4  \n"
     ]
    }
   ],
   "source": [
    "from sklearn.preprocessing import LabelEncoder\n",
    "\n",
    "# Create a copy for feature engineering\n",
    "df_features = df_clean.copy()\n",
    "\n",
    "# Extract features from required_skills column\n",
    "def extract_skill_features(skills_text):\n",
    "    \"\"\"Extract common AI/ML skills from the skills text\"\"\"\n",
    "    if pd.isna(skills_text) or skills_text == 'Not specified':\n",
    "        return {\n",
    "            'has_python': 0, 'has_sql': 0, 'has_machine_learning': 0,\n",
    "            'has_deep_learning': 0, 'has_tensorflow': 0, 'has_pytorch': 0,\n",
    "            'has_aws': 0, 'has_azure': 0, 'has_gcp': 0, 'skill_count': 0\n",
    "        }\n",
    "    \n",
    "    skills_lower = str(skills_text).lower()\n",
    "    \n",
    "    # Define skill patterns\n",
    "    skill_patterns = {\n",
    "        'has_python': r'\\bpython\\b',\n",
    "        'has_sql': r'\\bsql\\b',\n",
    "        'has_machine_learning': r'\\b(machine learning|ml)\\b',\n",
    "        'has_deep_learning': r'\\b(deep learning|neural network)\\b',\n",
    "        'has_tensorflow': r'\\btensorflow\\b',\n",
    "        'has_pytorch': r'\\bpytorch\\b',\n",
    "        'has_aws': r'\\b(aws|amazon web services)\\b',\n",
    "        'has_azure': r'\\bazure\\b',\n",
    "        'has_gcp': r'\\b(gcp|google cloud)\\b'\n",
    "    }\n",
    "    \n",
    "    features = {}\n",
    "    for skill, pattern in skill_patterns.items():\n",
    "        features[skill] = 1 if re.search(pattern, skills_lower) else 0\n",
    "    \n",
    "    # Count total number of skills (split by common delimiters)\n",
    "    skill_list = re.split(r'[,;|]', skills_text)\n",
    "    features['skill_count'] = len([s.strip() for s in skill_list if s.strip()])\n",
    "    \n",
    "    return features\n",
    "\n",
    "# Apply skill extraction\n",
    "if 'required_skills' in df_features.columns:\n",
    "    skill_features = df_features['required_skills'].apply(extract_skill_features)\n",
    "    skill_df = pd.DataFrame(skill_features.tolist())\n",
    "    df_features = pd.concat([df_features, skill_df], axis=1)\n",
    "\n",
    "print(\"Skill features extracted:\")\n",
    "print(skill_df.head())\n"
   ]
  },
  {
   "cell_type": "markdown",
   "metadata": {},
   "source": [
    "### Create additional derived features"
   ]
  },
  {
   "cell_type": "code",
   "execution_count": 26,
   "metadata": {},
   "outputs": [
    {
     "name": "stdout",
     "output_type": "stream",
     "text": [
      "New features created:\n",
      "Seniority levels: seniority_level\n",
      "Senior        7114\n",
      "Junior        4196\n",
      "Mid-level     2182\n",
      "Management    1508\n",
      "Name: count, dtype: int64\n",
      "\n",
      "Regions: region\n",
      "Other             8222\n",
      "Major Tech Hub    6778\n",
      "Name: count, dtype: int64\n",
      "\n",
      "Salary ranges: salary_range\n",
      "100K-150K    3941\n",
      ">150K        3527\n",
      "50K-75K      3245\n",
      "75K-100K     3147\n",
      "<50K         1140\n",
      "Name: count, dtype: int64\n"
     ]
    }
   ],
   "source": [
    "# Seniority level based on experience and title\n",
    "def categorize_seniority(row):\n",
    "    \"\"\"Categorize job seniority based on title and experience\"\"\"\n",
    "    title = str(row.get('job_title', '')).lower()\n",
    "    years_exp = row.get('years_experience', 0)\n",
    "    \n",
    "    if any(word in title for word in ['senior', 'lead', 'principal', 'staff']):\n",
    "        return 'Senior'\n",
    "    elif any(word in title for word in ['junior', 'entry', 'associate']):\n",
    "        return 'Junior'\n",
    "    elif any(word in title for word in ['manager', 'director', 'head', 'chief']):\n",
    "        return 'Management'\n",
    "    elif years_exp >= 5:\n",
    "        return 'Senior'\n",
    "    elif years_exp <= 2:\n",
    "        return 'Junior'\n",
    "    else:\n",
    "        return 'Mid-level'\n",
    "\n",
    "df_features['seniority_level'] = df_features.apply(categorize_seniority, axis=1)\n",
    "\n",
    "# Extract location features\n",
    "def extract_location_features(location):\n",
    "    \"\"\"Extract country and region from location\"\"\"\n",
    "    if pd.isna(location):\n",
    "        return 'Unknown', 'Unknown'\n",
    "    \n",
    "    location_str = str(location).strip()\n",
    "    \n",
    "    # Common patterns for extracting country\n",
    "    if ',' in location_str:\n",
    "        parts = location_str.split(',')\n",
    "        country = parts[-1].strip()\n",
    "        city = parts[0].strip()\n",
    "    else:\n",
    "        country = location_str\n",
    "        city = location_str\n",
    "    \n",
    "    # Categorize by major regions/countries\n",
    "    tech_hubs = ['United States', 'USA', 'US', 'Canada', 'United Kingdom', 'UK', \n",
    "                 'Germany', 'Netherlands', 'Singapore', 'Australia', 'Ireland']\n",
    "    \n",
    "    if any(hub.lower() in country.lower() for hub in tech_hubs):\n",
    "        region = 'Major Tech Hub'\n",
    "    else:\n",
    "        region = 'Other'\n",
    "    \n",
    "    return country, region\n",
    "\n",
    "# Apply location feature extraction\n",
    "if 'company_location' in df_features.columns:\n",
    "    location_features = df_features['company_location'].apply(lambda x: extract_location_features(x))\n",
    "    df_features['country'] = [loc[0] for loc in location_features]\n",
    "    df_features['region'] = [loc[1] for loc in location_features]\n",
    "\n",
    "# Create salary bins for analysis\n",
    "df_features['salary_range'] = pd.cut(df_features['salary_usd'], \n",
    "                                   bins=[0, 50000, 75000, 100000, 150000, np.inf],\n",
    "                                   labels=['<50K', '50K-75K', '75K-100K', '100K-150K', '>150K'])\n",
    "\n",
    "print(\"New features created:\")\n",
    "print(f\"Seniority levels: {df_features['seniority_level'].value_counts()}\")\n",
    "print(f\"\\nRegions: {df_features['region'].value_counts()}\")\n",
    "print(f\"\\nSalary ranges: {df_features['salary_range'].value_counts()}\")\n"
   ]
  },
  {
   "cell_type": "markdown",
   "metadata": {},
   "source": [
    "### Encode Categorical Variables for Machine Learning\n",
    "Prepare the final dataset for modeling"
   ]
  },
  {
   "cell_type": "code",
   "execution_count": 27,
   "metadata": {},
   "outputs": [
    {
     "name": "stdout",
     "output_type": "stream",
     "text": [
      "Categorical encoding completed.\n",
      "Dataset shape after encoding: (15000, 55)\n",
      "\n",
      "New encoded columns (sample):\n",
      "['employment_type_encoded', 'experience_level_encoded', 'education_required_encoded', 'company_size_encoded', 'seniority_level_encoded', 'region_encoded', 'employment_type_CT', 'employment_type_FL', 'employment_type_FT', 'employment_type_PT']\n"
     ]
    }
   ],
   "source": [
    "df_ml = df_features.copy()\n",
    "\n",
    "# Define categorical columns to encode\n",
    "categorical_cols = ['employment_type', 'experience_level', 'education_required', \n",
    "                   'company_size', 'industry', 'seniority_level', 'region']\n",
    "\n",
    "# Define numerical columns to keep\n",
    "numerical_cols = ['years_experience', 'remote_ratio', 'benefits_score', \n",
    "                 'job_description_length', 'skill_count'] + \\\n",
    "                [col for col in df_ml.columns if col.startswith('has_')]\n",
    "\n",
    "# Label encode categorical variables with low cardinality\n",
    "label_encoders = {}\n",
    "for col in categorical_cols:\n",
    "    if col in df_ml.columns:\n",
    "        le = LabelEncoder()\n",
    "        df_ml[col + '_encoded'] = le.fit_transform(df_ml[col].astype(str))\n",
    "        label_encoders[col] = le\n",
    "\n",
    "# Create dummy variables for categorical columns with moderate cardinality\n",
    "# (We'll use this approach for flexibility in model interpretation)\n",
    "categorical_cols_for_dummies = ['employment_type', 'experience_level', 'education_required', \n",
    "                               'company_size', 'seniority_level', 'region']\n",
    "\n",
    "df_ml_dummies = pd.get_dummies(df_ml, columns=categorical_cols_for_dummies, prefix=categorical_cols_for_dummies)\n",
    "\n",
    "print(\"Categorical encoding completed.\")\n",
    "print(f\"Dataset shape after encoding: {df_ml_dummies.shape}\")\n",
    "print(f\"\\nNew encoded columns (sample):\")\n",
    "encoded_cols = [col for col in df_ml_dummies.columns if any(cat in col for cat in categorical_cols_for_dummies)]\n",
    "print(encoded_cols[:10])\n"
   ]
  },
  {
   "cell_type": "markdown",
   "metadata": {},
   "source": [
    "## Feature Selection\n",
    "Remove non-predictive columns and prepare for modeling"
   ]
  },
  {
   "cell_type": "code",
   "execution_count": 28,
   "metadata": {},
   "outputs": [
    {
     "name": "stdout",
     "output_type": "stream",
     "text": [
      "Feature selection completed:\n",
      "Number of features: 42\n",
      "Number of samples: 15000\n",
      "Target variable (salary) range: $32,519 - $399,095\n",
      "\n",
      "Feature columns (first 15):\n",
      "['remote_ratio', 'years_experience', 'job_description_length', 'benefits_score', 'has_python', 'has_sql', 'has_machine_learning', 'has_deep_learning', 'has_tensorflow', 'has_pytorch', 'has_aws', 'has_azure', 'has_gcp', 'skill_count', 'employment_type_encoded']\n",
      "\n",
      "Missing values in features: 0\n",
      "Missing values in target: 0\n",
      "\n",
      "Top 10 features correlated with salary:\n",
      "years_experience             0.737556\n",
      "experience_level_EX          0.694666\n",
      "seniority_level_Senior       0.555275\n",
      "seniority_level_encoded      0.542869\n",
      "experience_level_EN          0.497440\n",
      "seniority_level_Junior       0.472479\n",
      "experience_level_MI          0.263908\n",
      "seniority_level_Mid-level    0.191005\n",
      "company_size_encoded         0.190923\n",
      "company_size_L               0.175653\n",
      "dtype: float64\n"
     ]
    }
   ],
   "source": [
    "# Columns to exclude from modeling\n",
    "columns_to_exclude = ['job_id', 'company_name', 'job_title', 'posting_date', \n",
    "                     'application_deadline', 'company_location', 'employee_residence',\n",
    "                     'required_skills', 'salary_currency', 'country', 'salary_range']\n",
    "\n",
    "# Also exclude original categorical columns that we've encoded\n",
    "columns_to_exclude.extend(categorical_cols)\n",
    "\n",
    "# Select features for modeling\n",
    "feature_columns = [col for col in df_ml_dummies.columns \n",
    "                  if col not in columns_to_exclude and col != 'salary_usd']\n",
    "\n",
    "# Create final feature matrix and target variable\n",
    "X = df_ml_dummies[feature_columns]\n",
    "y = df_ml_dummies['salary_usd']\n",
    "\n",
    "print(\"Feature selection completed:\")\n",
    "print(f\"Number of features: {X.shape[1]}\")\n",
    "print(f\"Number of samples: {X.shape[0]}\")\n",
    "print(f\"Target variable (salary) range: ${y.min():,.0f} - ${y.max():,.0f}\")\n",
    "\n",
    "print(f\"\\nFeature columns (first 15):\")\n",
    "print(X.columns[:15].tolist())\n",
    "\n",
    "# Check for any remaining missing values\n",
    "print(f\"\\nMissing values in features: {X.isnull().sum().sum()}\")\n",
    "print(f\"Missing values in target: {y.isnull().sum()}\")\n",
    "\n",
    "# Basic correlation analysis with target\n",
    "correlations = X.corrwith(y).abs().sort_values(ascending=False)\n",
    "print(f\"\\nTop 10 features correlated with salary:\")\n",
    "print(correlations.head(10))\n"
   ]
  },
  {
   "cell_type": "markdown",
   "metadata": {},
   "source": [
    "### Final Data Validation and Summary"
   ]
  },
  {
   "cell_type": "code",
   "execution_count": 29,
   "metadata": {},
   "outputs": [
    {
     "name": "stdout",
     "output_type": "stream",
     "text": [
      "============================================================\n",
      "DATA CLEANING AND PREPARATION SUMMARY\n",
      "============================================================\n",
      "Original dataset shape: (15000, 19)\n",
      "Cleaned dataset shape: (15000, 19)\n",
      "Final ML dataset shape: (15000, 55)\n",
      "Feature matrix shape: (15000, 42)\n",
      "Target variable shape: (15000,)\n",
      "\n",
      "Data Quality Checks:\n",
      "✓ Missing values handled: 0 remaining\n",
      "✓ Duplicates removed: 0 found in original\n",
      "✓ Feature engineering completed: 9 skill features\n",
      "✓ Categorical encoding completed: 27 dummy variables\n",
      "\n",
      "Dataset Statistics:\n",
      "Salary range: $32,519 - $399,095\n",
      "Average salary: $115,349\n",
      "Median salary: $99,705\n",
      "\n",
      "Key Features Available:\n",
      "- Job characteristics: title, experience, education, employment type\n",
      "- Company information: size, industry, location, benefits\n",
      "- Skills: Python, SQL, ML, DL, cloud platforms, etc.\n",
      "- Location: country, region classification\n",
      "- Seniority: derived from title and experience\n",
      "\n",
      "Ready for:\n",
      "✓ Exploratory Data Analysis\n",
      "✓ Predictive Modeling (Random Forest, XGBoost)\n",
      "✓ Feature Importance Analysis\n",
      "✓ Salary Prediction\n",
      "\n",
      "============================================================\n",
      "Data cleaning and preparation completed successfully!\n",
      "You can now proceed with exploratory data analysis and modeling.\n",
      "============================================================\n"
     ]
    }
   ],
   "source": [
    "print(\"=\"*60)\n",
    "print(\"DATA CLEANING AND PREPARATION SUMMARY\")\n",
    "print(\"=\"*60)\n",
    "\n",
    "print(f\"Original dataset shape: {df.shape}\")\n",
    "print(f\"Cleaned dataset shape: {df_clean.shape}\")\n",
    "print(f\"Final ML dataset shape: {df_ml_dummies.shape}\")\n",
    "print(f\"Feature matrix shape: {X.shape}\")\n",
    "print(f\"Target variable shape: {y.shape}\")\n",
    "\n",
    "print(f\"\\nData Quality Checks:\")\n",
    "print(f\"✓ Missing values handled: {df_clean.isnull().sum().sum()} remaining\")\n",
    "print(f\"✓ Duplicates removed: {df.duplicated().sum()} found in original\")\n",
    "print(f\"✓ Feature engineering completed: {len([c for c in X.columns if 'has_' in c])} skill features\")\n",
    "print(f\"✓ Categorical encoding completed: {len([c for c in X.columns if '_' in c and any(cat in c for cat in categorical_cols_for_dummies)])} dummy variables\")\n",
    "\n",
    "print(f\"\\nDataset Statistics:\")\n",
    "print(f\"Salary range: ${y.min():,.0f} - ${y.max():,.0f}\")\n",
    "print(f\"Average salary: ${y.mean():,.0f}\")\n",
    "print(f\"Median salary: ${y.median():,.0f}\")\n",
    "\n",
    "print(f\"\\nKey Features Available:\")\n",
    "print(\"- Job characteristics: title, experience, education, employment type\")\n",
    "print(\"- Company information: size, industry, location, benefits\")  \n",
    "print(\"- Skills: Python, SQL, ML, DL, cloud platforms, etc.\")\n",
    "print(\"- Location: country, region classification\")\n",
    "print(\"- Seniority: derived from title and experience\")\n",
    "\n",
    "print(f\"\\nReady for:\")\n",
    "print(\"✓ Exploratory Data Analysis\")\n",
    "print(\"✓ Predictive Modeling (Random Forest, XGBoost)\")\n",
    "print(\"✓ Feature Importance Analysis\")\n",
    "print(\"✓ Salary Prediction\")\n",
    "\n",
    "# Optional: Save cleaned datasets\n",
    "save_data = False  # Set to True if you want to save the cleaned data\n",
    "\n",
    "if save_data:\n",
    "    df_clean.to_csv('ai_job_dataset_cleaned.csv', index=False)\n",
    "    df_ml_dummies.to_csv('ai_job_dataset_ml_ready.csv', index=False)\n",
    "    \n",
    "    # Save feature matrix and target separately\n",
    "    X.to_csv('features.csv', index=False)\n",
    "    y.to_csv('target.csv', index=False)\n",
    "    \n",
    "    print(f\"\\n✓ Cleaned datasets saved to CSV files\")\n",
    "\n",
    "print(\"\\n\" + \"=\"*60)\n",
    "print(\"Data cleaning and preparation completed successfully!\")\n",
    "print(\"You can now proceed with exploratory data analysis and modeling.\")\n",
    "print(\"=\"*60)\n"
   ]
  },
  {
   "cell_type": "code",
   "execution_count": 32,
   "metadata": {},
   "outputs": [
    {
     "name": "stdout",
     "output_type": "stream",
     "text": [
      "Outlier handling skipped. Using full dataset for modeling.\n",
      "Consider setting handle_outliers=True if model performance is poor due to extreme values.\n",
      "\n",
      "Final dataset ready for modeling:\n",
      "Features: (15000, 42)\n",
      "Target: (15000,)\n"
     ]
    }
   ],
   "source": [
    "# Optional: Handle Extreme Outliers for More Robust Models\n",
    "# You can run this cell if you want to remove extreme salary outliers\n",
    "\n",
    "handle_outliers = False  # Should be set to True if we want to handle outliers, let's keep it false for now\n",
    "\n",
    "if handle_outliers:\n",
    "    print(\"Handling extreme outliers...\")\n",
    "    \n",
    "    # Define outlier boundaries (you can adjust these based on domain knowledge)\n",
    "    lower_percentile = 0.01  # Remove bottom 1%\n",
    "    upper_percentile = 0.99  # Remove top 1%\n",
    "    \n",
    "    lower_bound = y.quantile(lower_percentile)\n",
    "    upper_bound = y.quantile(upper_percentile)\n",
    "    \n",
    "    print(f\"Original salary range: ${y.min():,.0f} - ${y.max():,.0f}\")\n",
    "    print(f\"Outlier bounds ({lower_percentile*100}% - {upper_percentile*100}%): ${lower_bound:,.0f} - ${upper_bound:,.0f}\")\n",
    "    \n",
    "    # Filter outliers\n",
    "    outlier_mask = (y >= lower_bound) & (y <= upper_bound)\n",
    "    X_filtered = X[outlier_mask]\n",
    "    y_filtered = y[outlier_mask]\n",
    "    \n",
    "    print(f\"Samples removed: {len(y) - len(y_filtered)} ({(len(y) - len(y_filtered))/len(y)*100:.1f}%)\")\n",
    "    print(f\"Final dataset shape: {X_filtered.shape}\")\n",
    "    print(f\"Final salary range: ${y_filtered.min():,.0f} - ${y_filtered.max():,.0f}\")\n",
    "    \n",
    "    # Update the variables for modeling\n",
    "    X = X_filtered\n",
    "    y = y_filtered\n",
    "    \n",
    "else:\n",
    "    print(\"Outlier handling skipped. Using full dataset for modeling.\")\n",
    "    print(\"Consider setting handle_outliers=True if model performance is poor due to extreme values.\")\n",
    "\n",
    "print(f\"\\nFinal dataset ready for modeling:\")\n",
    "print(f\"Features: {X.shape}\")\n",
    "print(f\"Target: {y.shape}\")\n"
   ]
  },
  {
   "cell_type": "markdown",
   "metadata": {},
   "source": [
    "## Modeling \n",
    "### Machine Learning Models - Random Forest & XGBoost\n",
    "\n",
    "Now that our data is cleaned and prepared, we'll implement two powerful machine learning models:\n",
    "\n",
    "**Random Forest:**\n",
    "- Excellent for handling mixed data types (numerical + categorical)\n",
    "- Robust to outliers in our salary data ($32K - $399K range)\n",
    "- Provides feature importance for salary driver analysis\n",
    "- Reduces overfitting through ensemble learning\n",
    "\n",
    "**XGBoost:**\n",
    "- State-of-the-art performance for tabular data\n",
    "- Captures complex non-linear relationships between skills, experience, and salary\n",
    "- Built-in regularization prevents overfitting\n",
    "- Excellent for our engineered features (skills, seniority, location)\n",
    "\n",
    "Both models will help us understand what drives AI salaries and create accurate predictions for job seekers and companies.\n"
   ]
  },
  {
   "cell_type": "code",
   "execution_count": 33,
   "metadata": {},
   "outputs": [
    {
     "name": "stdout",
     "output_type": "stream",
     "text": [
      "============================================================\n",
      "MACHINE LEARNING MODELS: RANDOM FOREST & XGBOOST\n",
      "============================================================\n",
      "Training set: (12000, 42)\n",
      "Testing set: (3000, 42)\n",
      "Target variable statistics:\n",
      "  Train mean: $115,256\n",
      "  Test mean: $115,720\n"
     ]
    }
   ],
   "source": [
    "print(\"=\"*60)\n",
    "print(\"MACHINE LEARNING MODELS: RANDOM FOREST & XGBOOST\")\n",
    "print(\"=\"*60)\n",
    "\n",
    "# Split the data into training and testing sets\n",
    "X_train, X_test, y_train, y_test = train_test_split(\n",
    "    X, y, test_size=0.2, random_state=42, stratify=pd.cut(y, bins=5)\n",
    ")\n",
    "\n",
    "print(f\"Training set: {X_train.shape}\")\n",
    "print(f\"Testing set: {X_test.shape}\")\n",
    "print(f\"Target variable statistics:\")\n",
    "print(f\"  Train mean: ${y_train.mean():,.0f}\")\n",
    "print(f\"  Test mean: ${y_test.mean():,.0f}\")\n"
   ]
  },
  {
   "cell_type": "markdown",
   "metadata": {},
   "source": [
    "## Random Forest"
   ]
  },
  {
   "cell_type": "code",
   "execution_count": 34,
   "metadata": {},
   "outputs": [
    {
     "name": "stdout",
     "output_type": "stream",
     "text": [
      "\n",
      "========================================\n",
      "RANDOM FOREST MODEL\n",
      "========================================\n",
      "Random Forest Performance:\n",
      "Training R²: 0.9110\n",
      "Testing R²: 0.6220\n",
      "Training RMSE: $17,975\n",
      "Testing RMSE: $37,042\n",
      "Training MAE: $13,034\n",
      "Testing MAE: $27,481\n",
      "Cross-validation R² (mean ± std): 0.6306 ± 0.0099\n"
     ]
    }
   ],
   "source": [
    "# Random Forest Regressor\n",
    "print(\"\\n\" + \"=\"*40)\n",
    "print(\"RANDOM FOREST MODEL\")\n",
    "print(\"=\"*40)\n",
    "\n",
    "# Initialize and train Random Forest\n",
    "rf_model = RandomForestRegressor(\n",
    "    n_estimators=100,\n",
    "    max_depth=20,\n",
    "    min_samples_split=5,\n",
    "    min_samples_leaf=2,\n",
    "    random_state=42,\n",
    "    n_jobs=-1\n",
    ")\n",
    "\n",
    "# Train the model\n",
    "rf_model.fit(X_train, y_train)\n",
    "\n",
    "# Make predictions\n",
    "rf_train_pred = rf_model.predict(X_train)\n",
    "rf_test_pred = rf_model.predict(X_test)\n",
    "\n",
    "print_model_performance(y_train, rf_train_pred, y_test, rf_test_pred, \"Random Forest Performance:\", rf_model)"
   ]
  },
  {
   "cell_type": "markdown",
   "metadata": {},
   "source": [
    "### RandomForest Optimization"
   ]
  },
  {
   "cell_type": "code",
   "execution_count": null,
   "metadata": {},
   "outputs": [],
   "source": [
    "# Define parameter grid for optimization\n",
    "param_grid = {\n",
    "    'n_estimators': [100, 200, 300],\n",
    "    'max_depth': [None, 10, 20, 30],\n",
    "    'min_samples_split': [2, 5],\n",
    "    'min_samples_leaf': [1, 2]\n",
    "}\n",
    "\n",
    "# Initialize model\n",
    "rf = RandomForestRegressor(random_state=42)\n",
    "\n",
    "# Grid search with cross-validation\n",
    "grid_search = GridSearchCV(estimator=rf, param_grid=param_grid,\n",
    "                           cv=5, n_jobs=-1, scoring='neg_mean_squared_error', verbose=2)\n",
    "\n",
    "# Fit model\n",
    "grid_search.fit(X_train, y_train)\n",
    "\n",
    "# Evaluate best model\n",
    "best_rf = grid_search.best_estimator_\n",
    "\n",
    "print(\"Best Parameters:\", grid_search.best_params_)"
   ]
  },
  {
   "cell_type": "code",
   "execution_count": 37,
   "metadata": {},
   "outputs": [
    {
     "name": "stdout",
     "output_type": "stream",
     "text": [
      "Random Forest Performance:\n",
      "Training R²: 0.7797\n",
      "Testing R²: 0.6331\n",
      "Training RMSE: $28,282\n",
      "Testing RMSE: $36,493\n",
      "Training MAE: $21,557\n",
      "Testing MAE: $27,108\n",
      "Cross-validation R² (mean ± std): 0.6406 ± 0.0086\n"
     ]
    }
   ],
   "source": [
    "# Make predictions\n",
    "rf_train_pred = best_rf.predict(X_train)\n",
    "rf_test_pred = best_rf.predict(X_test)\n",
    "print_model_performance(y_train, rf_train_pred, y_test, rf_test_pred, \"Random Forest Performance:\", best_rf)"
   ]
  },
  {
   "cell_type": "markdown",
   "metadata": {},
   "source": [
    "### Before optimization:\n",
    "- Training R²: 0.9110 - good fits for training data\n",
    "- Testing R²: 0.6220 - performance drops on test data, signs of overfitting\n",
    "- A large gap between training and testing RMSE supports the overfitting:\n",
    "- Training RMSE: \\\\$17,975\n",
    "- Testing RMSE: \\\\$37,042\n",
    "- Same gap here:\n",
    "- Training MAE: \\\\$13,034\n",
    "- Testing MAE: \\\\$27,481\n",
    "- Cross-validation R²: 0.6306 ± 0.0099 - More in line with testing R², so generalization estimate is fair\n",
    "\n",
    "### After optimization:\n",
    "- Training R²: 0.7797 - Model is less overfit\n",
    "- Testing R²: 0.6331 - Slight improvement in test performance, which is the goal of optimization.\n",
    "- The gap between training and testing RMSE is now much smaller - better generalization:\n",
    "- Training RMSE: \\\\$28,282 \n",
    "- Testing RMSE: \\\\$36,493\n",
    "- More balanced:\n",
    "- Training MAE: \\\\$21,557\n",
    "- Testing MAE: \\\\$27,108\n",
    "- Cross-validation R² (mean ± std): 0.6406 ± 0.0086 - Almost the same as before, meaning the model is stable across folds.\n",
    "\n",
    "### Conclusion\n",
    "Before optimization, the model overfit the training data, which hurt generalization. After optimization, generalization improved even though training performance dropped, a desirable trade-off. Cross-validation results remained stable, showing the model’s consistency.\n",
    "This shows successful optimization: the model sacrifices a bit of fit on the training data in exchange for better real-world performance."
   ]
  },
  {
   "cell_type": "markdown",
   "metadata": {},
   "source": [
    "## XGBoost"
   ]
  },
  {
   "cell_type": "code",
   "execution_count": 38,
   "metadata": {},
   "outputs": [
    {
     "name": "stdout",
     "output_type": "stream",
     "text": [
      "\n",
      "========================================\n",
      "XGBOOST MODEL\n",
      "========================================\n",
      "XGBoost Performance:\n",
      "Training R²: 0.7760\n",
      "Testing R²: 0.6208\n",
      "Training RMSE: $28,524\n",
      "Testing RMSE: $37,101\n",
      "Training MAE: $21,722\n",
      "Testing MAE: $27,337\n",
      "Cross-validation R² (mean ± std): 0.6280 ± 0.0081\n"
     ]
    }
   ],
   "source": [
    "# XGBoost Regressor\n",
    "print(\"\\n\" + \"=\"*40)\n",
    "print(\"XGBOOST MODEL\")\n",
    "print(\"=\"*40)\n",
    "\n",
    "# Initialize and train XGBoost\n",
    "xgb_model = xgb.XGBRegressor(\n",
    "    n_estimators=100,\n",
    "    max_depth=6,\n",
    "    learning_rate=0.1,\n",
    "    subsample=0.8,\n",
    "    colsample_bytree=0.8,\n",
    "    random_state=42,\n",
    "    verbosity=0\n",
    ")\n",
    "\n",
    "# Train the model\n",
    "xgb_model.fit(X_train, y_train)\n",
    "\n",
    "# Make predictions\n",
    "xgb_train_pred = xgb_model.predict(X_train)\n",
    "xgb_test_pred = xgb_model.predict(X_test)\n",
    "\n",
    "print_model_performance(y_train, xgb_train_pred, y_test, xgb_test_pred, \"XGBoost Performance:\", xgb_model)"
   ]
  },
  {
   "cell_type": "markdown",
   "metadata": {},
   "source": [
    "### XGBoost Optimization"
   ]
  },
  {
   "cell_type": "code",
   "execution_count": 39,
   "metadata": {},
   "outputs": [
    {
     "name": "stdout",
     "output_type": "stream",
     "text": [
      "Fitting 5 folds for each of 64 candidates, totalling 320 fits\n",
      "Best Parameters: {'learning_rate': 0.1, 'max_depth': 2, 'n_estimators': 100, 'subsample': 1.0}\n"
     ]
    }
   ],
   "source": [
    "# Define parameter grid for optimization\n",
    "param_grid = {\n",
    "    'n_estimators': [50, 100, 200, 300],\n",
    "    'max_depth': [2, 4, 7, 9],\n",
    "    'learning_rate': [0.01, 0.1],\n",
    "    'subsample': [0.8, 1.0]\n",
    "}\n",
    "\n",
    "# Initialize model\n",
    "xgb_model = xgb.XGBRegressor(objective='reg:squarederror', random_state=42, colsample_bytree=0.8)\n",
    "\n",
    "# Train the model\n",
    "grid_search = GridSearchCV(estimator=xgb_model, param_grid=param_grid,\n",
    "                           scoring='r2', cv=5, n_jobs=-1, verbose=1)\n",
    "\n",
    "# Fit model\n",
    "grid_search.fit(X_train, y_train)\n",
    "\n",
    "# Evaluate best model\n",
    "best_xgb = grid_search.best_estimator_\n",
    "\n",
    "print(\"Best Parameters:\", grid_search.best_params_)"
   ]
  },
  {
   "cell_type": "code",
   "execution_count": 40,
   "metadata": {},
   "outputs": [
    {
     "name": "stdout",
     "output_type": "stream",
     "text": [
      "XGBoost Performance:\n",
      "Training R²: 0.6553\n",
      "Testing R²: 0.6404\n",
      "Training RMSE: $35,379\n",
      "Testing RMSE: $36,127\n",
      "Training MAE: $26,389\n",
      "Testing MAE: $26,992\n",
      "Cross-validation R² (mean ± std): 0.6502 ± 0.0065\n"
     ]
    }
   ],
   "source": [
    "# Make predictions\n",
    "xgb_train_pred = best_xgb.predict(X_train)\n",
    "xgb_test_pred = best_xgb.predict(X_test)\n",
    "\n",
    "print_model_performance(y_train, xgb_train_pred, y_test, xgb_test_pred, \"XGBoost Performance:\", best_xgb)"
   ]
  },
  {
   "cell_type": "markdown",
   "metadata": {},
   "source": [
    "### Before optimization:\n",
    "- Training R²: 0.7760 - well fits for training data\n",
    "- Testing R²: 0.6208 - performance drops on test data, signs of overfitting\n",
    "- A noticeable performance gap between training and testing, suggesting some overfitting:\n",
    "- Training RMSE: \\\\$28,524\n",
    "- Testing RMSE: \\\\$37,101\n",
    "- Same gap here too:\n",
    "- Training MAE: \\\\$21,722\n",
    "- Testing MAE: \\\\$27,337\n",
    "- Cross-validation R² (mean ± std): 0.6280 ± 0.0081 - Cross-validation confirms the testing performance is consistent\n",
    "\n",
    "### After optimization:\n",
    "- Training R²: 0.6553 - Model is less overfit\n",
    "- Testing R²: 0.6404 - training performance dropped, but testing performance improved slightly\n",
    "- RMSE and MAE on test data also improved modestly, showing better generalization:\n",
    "- Training RMSE: \\\\$35,379\n",
    "- Testing RMSE: \\\\$36,127\n",
    "- Training MAE: \\\\$26,389\n",
    "- Testing MAE: \\\\$26,992\n",
    "- Cross-validation R² (mean ± std): 0.6502 ± 0.0065 - Cross-validation improved and became more - stable (lower standard deviation), suggesting the model is now more robust and reliable.\n",
    "\n",
    "### Conclusion\n",
    "Before optimization, the model was overfitting — higher training scores, lower test performance. After optimization, the model became more generalized and less overfit, sacrificing some training accuracy to gain better test reliability. The small but consistent gain in CV and test R² suggests optimization was successful."
   ]
  },
  {
   "cell_type": "markdown",
   "metadata": {},
   "source": [
    "## Evaluation – performance measures, results, and conclusions."
   ]
  },
  {
   "cell_type": "code",
   "execution_count": null,
   "metadata": {},
   "outputs": [],
   "source": []
  },
  {
   "cell_type": "code",
   "execution_count": null,
   "metadata": {},
   "outputs": [],
   "source": []
  },
  {
   "cell_type": "code",
   "execution_count": null,
   "metadata": {},
   "outputs": [],
   "source": []
  },
  {
   "cell_type": "code",
   "execution_count": 41,
   "metadata": {},
   "outputs": [
    {
     "name": "stdout",
     "output_type": "stream",
     "text": [
      "✓ Random Forest model saved as 'models/random_forest_model.pkl'\n",
      "✓ XGBoost model saved as 'models/xgboost_model.pkl'\n",
      "\n",
      "Both models have been trained and saved successfully!\n"
     ]
    }
   ],
   "source": [
    "# Save Trained Models\n",
    "import joblib\n",
    "import os\n",
    "\n",
    "# Create models directory if it doesn't exist\n",
    "os.makedirs('models', exist_ok=True)\n",
    "\n",
    "# Save Random Forest model\n",
    "joblib.dump(rf_model, 'models/random_forest_model.pkl')\n",
    "print(\"✓ Random Forest model saved as 'models/random_forest_model.pkl'\")\n",
    "\n",
    "# Save XGBoost model\n",
    "joblib.dump(xgb_model, 'models/xgboost_model.pkl')\n",
    "print(\"✓ XGBoost model saved as 'models/xgboost_model.pkl'\")\n",
    "\n",
    "print(\"\\nBoth models have been trained and saved successfully!\")\n"
   ]
  }
 ],
 "metadata": {
  "colab": {
   "provenance": []
  },
  "kernelspec": {
   "display_name": "Python 3",
   "language": "python",
   "name": "python3"
  },
  "language_info": {
   "codemirror_mode": {
    "name": "ipython",
    "version": 3
   },
   "file_extension": ".py",
   "mimetype": "text/x-python",
   "name": "python",
   "nbconvert_exporter": "python",
   "pygments_lexer": "ipython3",
   "version": "3.12.5"
  }
 },
 "nbformat": 4,
 "nbformat_minor": 4
}
